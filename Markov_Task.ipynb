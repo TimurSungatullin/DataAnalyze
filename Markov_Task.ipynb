{
 "cells": [
  {
   "cell_type": "code",
   "execution_count": 65,
   "metadata": {},
   "outputs": [],
   "source": [
    "import quantecon as qe\n",
    "import numpy as np\n",
    "from mpl_toolkits.mplot3d import Axes3D\n",
    "import matplotlib.pyplot as plt\n",
    "%matplotlib inline\n",
    "# importing networkx  \n",
    "import networkx as nx \n",
    "# importing matplotlib.pyplot \n",
    "import matplotlib.pyplot as plt\n",
    "import pandas as pd\n",
    "import pydot"
   ]
  },
  {
   "cell_type": "markdown",
   "metadata": {},
   "source": [
    "# Задание 1."
   ]
  },
  {
   "cell_type": "code",
   "execution_count": 13,
   "metadata": {},
   "outputs": [
    {
     "data": {
      "text/plain": [
       "1"
      ]
     },
     "execution_count": 13,
     "metadata": {},
     "output_type": "execute_result"
    }
   ],
   "source": [
    "P = [[0.25, 0.25, 0.0, 0.0, 0.5],\n",
    "     [0.33333333, 0.0, 0.33333333, 0.33333333, 0.0],\n",
    "     [0.5, 0.0, 0.0, 0.0, 0.5],\n",
    "     [0.0, 0.0, 0.0, 0.5, 0.5],\n",
    "     [0.0, 0.0, 0.0, 1.0, 0.0]]\n",
    "\n",
    "mc = qe.MarkovChain(P)\n",
    "mc.period"
   ]
  },
  {
   "cell_type": "code",
   "execution_count": 49,
   "metadata": {},
   "outputs": [],
   "source": [
    "states = [(0.25, 0.25),\n",
    "         (0.25, 0.25),\n",
    "         (0.25, 0.0),\n",
    "         (0.25, 0.0),\n",
    "         (0.25, 0.5),\n",
    "         (0.33333333, 0.33333333),\n",
    "         (0.33333333, 0.0),\n",
    "         (0.33333333, 0.33333333),\n",
    "         (0.33333333, 0.33333333),\n",
    "         (0.33333333, 0.0),\n",
    "         (0.5, 0.5),\n",
    "         (0.5, 0.0),\n",
    "         (0.5, 0.0),\n",
    "         (0.5, 0.0),\n",
    "         (0.5, 0.5),\n",
    "         (0.0, 0.0),\n",
    "         (0.0, 0.0),\n",
    "         (0.0, 0.0),\n",
    "         (0.0, 0.5),\n",
    "         (0.0, 0.5),\n",
    "         (0.0, 0.0),\n",
    "         (0.0, 0.0),\n",
    "         (0.0, 0.0),\n",
    "         (0.0, 1.0),\n",
    "         (0.0, 0.0)]"
   ]
  },
  {
   "cell_type": "code",
   "execution_count": 52,
   "metadata": {},
   "outputs": [
    {
     "name": "stdout",
     "output_type": "stream",
     "text": [
      "(0.25, 0.25)               NaN\n",
      "(0.25, 0.25)               NaN\n",
      "(0.25, 0.0)                NaN\n",
      "(0.25, 0.0)                NaN\n",
      "(0.25, 0.5)                NaN\n",
      "(0.33333333, 0.33333333)   NaN\n",
      "(0.33333333, 0.0)          NaN\n",
      "(0.33333333, 0.33333333)   NaN\n",
      "(0.33333333, 0.33333333)   NaN\n",
      "(0.33333333, 0.0)          NaN\n",
      "(0.5, 0.5)                 NaN\n",
      "(0.5, 0.0)                 NaN\n",
      "(0.5, 0.0)                 NaN\n",
      "(0.5, 0.0)                 NaN\n",
      "(0.5, 0.5)                 NaN\n",
      "(0.0, 0.0)                 NaN\n",
      "(0.0, 0.0)                 NaN\n",
      "(0.0, 0.0)                 NaN\n",
      "(0.0, 0.5)                 NaN\n",
      "(0.0, 0.5)                 NaN\n",
      "(0.0, 0.0)                 NaN\n",
      "(0.0, 0.0)                 NaN\n",
      "(0.0, 0.0)                 NaN\n",
      "(0.0, 1.0)                 NaN\n",
      "(0.0, 0.0)                 NaN\n",
      "Name: states, dtype: float64\n",
      "0.0\n"
     ]
    },
    {
     "name": "stderr",
     "output_type": "stream",
     "text": [
      "C:\\Users\\HP\\anaconda3\\lib\\site-packages\\ipykernel_launcher.py:1: DeprecationWarning: The default dtype for empty Series will be 'object' instead of 'float64' in a future version. Specify a dtype explicitly to silence this warning.\n",
      "  \"\"\"Entry point for launching an IPython kernel.\n"
     ]
    }
   ],
   "source": [
    "state_space = pd.Series(index=states, name='states')\n",
    "print(state_space)\n",
    "print(state_space.sum())"
   ]
  },
  {
   "cell_type": "code",
   "execution_count": 4,
   "metadata": {},
   "outputs": [
    {
     "name": "stdout",
     "output_type": "stream",
     "text": [
      "<bound method MarkovChain.__repr__ of Markov chain with transition matrix \n",
      "P = \n",
      "[[0.25       0.25       0.         0.         0.5       ]\n",
      " [0.33333333 0.         0.33333333 0.33333333 0.        ]\n",
      " [0.5        0.         0.         0.         0.5       ]\n",
      " [0.         0.         0.         0.5        0.5       ]\n",
      " [0.         0.         0.         1.         0.        ]]>\n"
     ]
    }
   ],
   "source": [
    "print(mc)"
   ]
  },
  {
   "cell_type": "code",
   "execution_count": 5,
   "metadata": {},
   "outputs": [
    {
     "data": {
      "text/plain": [
       "False"
      ]
     },
     "execution_count": 5,
     "metadata": {},
     "output_type": "execute_result"
    }
   ],
   "source": [
    "mc.is_irreducible"
   ]
  },
  {
   "cell_type": "code",
   "execution_count": 6,
   "metadata": {},
   "outputs": [
    {
     "data": {
      "text/plain": [
       "2"
      ]
     },
     "execution_count": 6,
     "metadata": {},
     "output_type": "execute_result"
    }
   ],
   "source": [
    "mc.num_communication_classes"
   ]
  },
  {
   "cell_type": "code",
   "execution_count": 7,
   "metadata": {},
   "outputs": [
    {
     "data": {
      "text/plain": [
       "[array([3, 4], dtype=int64), array([0, 1, 2], dtype=int64)]"
      ]
     },
     "execution_count": 7,
     "metadata": {},
     "output_type": "execute_result"
    }
   ],
   "source": [
    "mc.communication_classes"
   ]
  },
  {
   "cell_type": "code",
   "execution_count": 8,
   "metadata": {},
   "outputs": [
    {
     "data": {
      "text/plain": [
       "True"
      ]
     },
     "execution_count": 8,
     "metadata": {},
     "output_type": "execute_result"
    }
   ],
   "source": [
    "mc.is_aperiodic"
   ]
  },
  {
   "cell_type": "code",
   "execution_count": 9,
   "metadata": {},
   "outputs": [
    {
     "data": {
      "text/plain": [
       "1"
      ]
     },
     "execution_count": 9,
     "metadata": {},
     "output_type": "execute_result"
    }
   ],
   "source": [
    "mc.period"
   ]
  },
  {
   "cell_type": "code",
   "execution_count": 11,
   "metadata": {},
   "outputs": [
    {
     "name": "stdout",
     "output_type": "stream",
     "text": [
      "[[0.         0.         0.         0.66666667 0.33333333]]\n"
     ]
    }
   ],
   "source": [
    "print(mc.stationary_distributions)"
   ]
  },
  {
   "cell_type": "code",
   "execution_count": 12,
   "metadata": {},
   "outputs": [
    {
     "name": "stdout",
     "output_type": "stream",
     "text": [
      "[[0.         0.         0.         0.66666667 0.33333333]]\n"
     ]
    }
   ],
   "source": [
    "print(mc.stationary_distributions.dot(mc.P))"
   ]
  },
  {
   "cell_type": "code",
   "execution_count": 66,
   "metadata": {},
   "outputs": [],
   "source": [
    "G1 = nx.Graph()\n",
    "G1.add_node(1)\n",
    "G1.add_node(2)\n",
    "G1.add_node(3)\n",
    "G1.add_node(4)\n",
    "G1.add_node(5)"
   ]
  },
  {
   "cell_type": "code",
   "execution_count": 67,
   "metadata": {},
   "outputs": [],
   "source": [
    "import networkx as nx\n",
    "import numpy as np\n",
    "import matplotlib.pyplot as plt\n",
    "import pylab"
   ]
  },
  {
   "cell_type": "code",
   "execution_count": 68,
   "metadata": {},
   "outputs": [],
   "source": [
    "G1 = nx.DiGraph()\n",
    "G1.add_edges_from([('A', 'A'),('A','B')], weight=0.25)\n",
    "G1.add_edges_from([('A','E'),('C','E'),('C','A'),('D','E'),('D','D')], weight=0.5)\n",
    "G1.add_edges_from([('B','A'),('B','C'),('B','D')], weight=0.33333333)\n",
    "G1.add_edges_from([('E','D')], weight=1)"
   ]
  },
  {
   "cell_type": "code",
   "execution_count": 87,
   "metadata": {},
   "outputs": [
    {
     "data": {
      "image/png": "[encoded data removed]",
      "text/plain": [
       "<Figure size 432x288 with 1 Axes>"
      ]
     },
     "metadata": {},
     "output_type": "display_data"
    }
   ],
   "source": [
    "val_map = {'A': 0.09765,\n",
    "                   'B': 0.5714,\n",
    "                              'C': 0.99,\n",
    "                                          'D': 0.003467,\n",
    "                                                          'E': 0.1543}\n",
    "\n",
    "values = [val_map.get(node, 0.45) for node in G1.nodes()]\n",
    "edge_labels=dict([((u,v,),d['weight'])\n",
    "                 for u,v,d in G1.edges(data=True)])\n",
    "\n",
    "nx.draw_networkx_edge_labels(G1,pos,edge_labels=edge_labels)\n",
    "nx.draw(G1,pos, node_color = values, node_size=1500,edge_color=edge_colors,edge_cmap=plt.cm.Reds)\n",
    "pylab.show()"
   ]
  },
  {
   "cell_type": "code",
   "execution_count": 127,
   "metadata": {},
   "outputs": [
    {
     "data": {
      "image/png": "[encoded data removed]",
      "text/plain": [
       "<Figure size 432x288 with 1 Axes>"
      ]
     },
     "metadata": {},
     "output_type": "display_data"
    }
   ],
   "source": [
    "import networkx as nx\n",
    "import matplotlib.pyplot as plt\n",
    "\n",
    "def draw_graph(graph):\n",
    "    # create directed networkx graph\n",
    "    G=nx.DiGraph()\n",
    "\n",
    "    # add edges\n",
    "    G.add_edges_from(graph)\n",
    "\n",
    "    graph_pos = nx.shell_layout(G)\n",
    "\n",
    "    # draw nodes, edges and labels\n",
    "    nx.draw_networkx_nodes(G, graph_pos, node_size=1000, node_color='blue', alpha=0.3)\n",
    "    # we can now added edge thickness and edge color\n",
    "    nx.draw_networkx_edges(G, graph_pos, width=2, alpha=0.3, edge_color='green')\n",
    "    nx.draw_networkx_labels(G, graph_pos, font_size=12, font_family='sans-serif')\n",
    "    \n",
    "    labels = range(len(graph))\n",
    "    # [0, 1, 2, 3, 4, 5, 6, 7, 8, 9, 10]\n",
    "\n",
    "    edge_labels = dict(zip(graph, labels))\n",
    "    # {(23, 20): 7, (22, 23): 2, (20, 21): 10, (24, 25): 4, (21, 22): 1, (25, 20): 5, (24, 22): 8, (25, 21): 6, (23, 24): 3, (21, 24): 9}\n",
    "\n",
    "    nx.draw_networkx_edge_labels(G, graph_pos, edge_labels=edge_labels)\n",
    "\n",
    "    # show graph\n",
    "    plt.show()\n",
    "\n",
    "# we can add more edges here as the direction is a factor now,\n",
    "# edges are added as (from_node, to_node) tuples\n",
    "# hence (22, 25) and (25, 22) are different. In undirected graph,\n",
    "# we couldn't have told the difference.\n",
    "graph = graph = [\n",
    "        ('A', 'A'),('A','B'),('A','E'),('C','E'),('C','A'),('D','E'),('D','D'),\n",
    "        ('B','A'),('B','C'),('B','D'),('E','D')\n",
    "    ]\n",
    "draw_graph(graph)"
   ]
  },
  {
   "cell_type": "markdown",
   "metadata": {},
   "source": [
    "# Задание 2."
   ]
  },
  {
   "cell_type": "code",
   "execution_count": 25,
   "metadata": {},
   "outputs": [],
   "source": [
    "P1 = [[0.33333333, 0.66666666, 0.0, 0.0, 0.0, 0.0],\n",
    "     [0.66666666, 0.33333333, 0.0, 0.0, 0.0, 0.0],\n",
    "     [0.0, 0.0, 0.25, 0.75, 0.0, 0.0],\n",
    "     [0.0, 0.0, 0.2, 0.8, 0.0, 0.0],\n",
    "     [0.25, 0.0, 0.25, 0.0, 0.25, 0.25],\n",
    "     [0.16666667, 0.16666667, 0.16666667, 0.16666667, 0.16666667, 0.16666667]]"
   ]
  },
  {
   "cell_type": "code",
   "execution_count": 26,
   "metadata": {},
   "outputs": [
    {
     "data": {
      "text/plain": [
       "1"
      ]
     },
     "execution_count": 26,
     "metadata": {},
     "output_type": "execute_result"
    }
   ],
   "source": [
    "mc1 = qe.MarkovChain(P1)\n",
    "mc1.period"
   ]
  },
  {
   "cell_type": "code",
   "execution_count": 27,
   "metadata": {},
   "outputs": [
    {
     "name": "stdout",
     "output_type": "stream",
     "text": [
      "<bound method MarkovChain.__repr__ of Markov chain with transition matrix \n",
      "P = \n",
      "[[0.33333333 0.66666666 0.         0.         0.         0.        ]\n",
      " [0.66666666 0.33333333 0.         0.         0.         0.        ]\n",
      " [0.         0.         0.25       0.75       0.         0.        ]\n",
      " [0.         0.         0.2        0.8        0.         0.        ]\n",
      " [0.25       0.         0.25       0.         0.25       0.25      ]\n",
      " [0.16666667 0.16666667 0.16666667 0.16666667 0.16666667 0.16666667]]>\n"
     ]
    }
   ],
   "source": [
    "print(mc1)"
   ]
  },
  {
   "cell_type": "code",
   "execution_count": 28,
   "metadata": {},
   "outputs": [
    {
     "data": {
      "text/plain": [
       "False"
      ]
     },
     "execution_count": 28,
     "metadata": {},
     "output_type": "execute_result"
    }
   ],
   "source": [
    "mc1.is_irreducible"
   ]
  },
  {
   "cell_type": "code",
   "execution_count": 29,
   "metadata": {},
   "outputs": [
    {
     "data": {
      "text/plain": [
       "3"
      ]
     },
     "execution_count": 29,
     "metadata": {},
     "output_type": "execute_result"
    }
   ],
   "source": [
    "mc1.num_communication_classes"
   ]
  },
  {
   "cell_type": "code",
   "execution_count": 30,
   "metadata": {},
   "outputs": [
    {
     "data": {
      "text/plain": [
       "[array([0, 1], dtype=int64),\n",
       " array([2, 3], dtype=int64),\n",
       " array([4, 5], dtype=int64)]"
      ]
     },
     "execution_count": 30,
     "metadata": {},
     "output_type": "execute_result"
    }
   ],
   "source": [
    "mc1.communication_classes"
   ]
  },
  {
   "cell_type": "code",
   "execution_count": 31,
   "metadata": {},
   "outputs": [
    {
     "data": {
      "text/plain": [
       "True"
      ]
     },
     "execution_count": 31,
     "metadata": {},
     "output_type": "execute_result"
    }
   ],
   "source": [
    "mc1.is_aperiodic"
   ]
  },
  {
   "cell_type": "code",
   "execution_count": 32,
   "metadata": {},
   "outputs": [
    {
     "data": {
      "text/plain": [
       "1"
      ]
     },
     "execution_count": 32,
     "metadata": {},
     "output_type": "execute_result"
    }
   ],
   "source": [
    "mc1.period"
   ]
  },
  {
   "cell_type": "code",
   "execution_count": 33,
   "metadata": {},
   "outputs": [
    {
     "name": "stdout",
     "output_type": "stream",
     "text": [
      "[[0.5        0.5        0.         0.         0.         0.        ]\n",
      " [0.         0.         0.21052632 0.78947368 0.         0.        ]]\n"
     ]
    }
   ],
   "source": [
    "print(mc1.stationary_distributions)"
   ]
  },
  {
   "cell_type": "code",
   "execution_count": 47,
   "metadata": {},
   "outputs": [
    {
     "name": "stdout",
     "output_type": "stream",
     "text": [
      "[[0.49999999 0.49999999 0.         0.         0.         0.        ]\n",
      " [0.         0.         0.21052632 0.78947368 0.         0.        ]]\n"
     ]
    }
   ],
   "source": [
    "print(mc1.stationary_distributions.dot(mc1.P))"
   ]
  },
  {
   "cell_type": "markdown",
   "metadata": {},
   "source": [
    "# Задание 3."
   ]
  },
  {
   "cell_type": "code",
   "execution_count": 35,
   "metadata": {},
   "outputs": [],
   "source": [
    "P2 = [[0.0, 0.5, 0.0, 0.5, 0.0, 0.0, 0.0],\n",
    "     [0.75, 0.0, 0.25, 0.0, 0.0, 0.0, 0.0],\n",
    "     [0.0, 0.0, 0.0, 0.0, 0.0, 0.0, 1.0],\n",
    "     [0.25, 0.25, 0.0, 0.5, 0.0, 0.0, 0.0],\n",
    "     [0.0, 0.0, 0.0, 0.0, 0.5, 0.5, 0.0],\n",
    "     [0.0, 0.0, 0.0, 0.0, 0.25, 0.75, 0.0],\n",
    "     [0.0, 0.0, 1.0, 0.0, 0.0, 0.0, 0.0]]"
   ]
  },
  {
   "cell_type": "code",
   "execution_count": 36,
   "metadata": {},
   "outputs": [
    {
     "data": {
      "text/plain": [
       "2"
      ]
     },
     "execution_count": 36,
     "metadata": {},
     "output_type": "execute_result"
    }
   ],
   "source": [
    "mc2 = qe.MarkovChain(P2)\n",
    "mc2.period"
   ]
  },
  {
   "cell_type": "code",
   "execution_count": 37,
   "metadata": {},
   "outputs": [
    {
     "name": "stdout",
     "output_type": "stream",
     "text": [
      "<bound method MarkovChain.__repr__ of Markov chain with transition matrix \n",
      "P = \n",
      "[[0.   0.5  0.   0.5  0.   0.   0.  ]\n",
      " [0.75 0.   0.25 0.   0.   0.   0.  ]\n",
      " [0.   0.   0.   0.   0.   0.   1.  ]\n",
      " [0.25 0.25 0.   0.5  0.   0.   0.  ]\n",
      " [0.   0.   0.   0.   0.5  0.5  0.  ]\n",
      " [0.   0.   0.   0.   0.25 0.75 0.  ]\n",
      " [0.   0.   1.   0.   0.   0.   0.  ]]>\n"
     ]
    }
   ],
   "source": [
    "print(mc2)"
   ]
  },
  {
   "cell_type": "code",
   "execution_count": 39,
   "metadata": {},
   "outputs": [
    {
     "data": {
      "text/plain": [
       "False"
      ]
     },
     "execution_count": 39,
     "metadata": {},
     "output_type": "execute_result"
    }
   ],
   "source": [
    "mc2.is_irreducible"
   ]
  },
  {
   "cell_type": "code",
   "execution_count": 40,
   "metadata": {},
   "outputs": [
    {
     "data": {
      "text/plain": [
       "3"
      ]
     },
     "execution_count": 40,
     "metadata": {},
     "output_type": "execute_result"
    }
   ],
   "source": [
    "mc2.num_communication_classes"
   ]
  },
  {
   "cell_type": "code",
   "execution_count": 41,
   "metadata": {},
   "outputs": [
    {
     "data": {
      "text/plain": [
       "[array([2, 6], dtype=int64),\n",
       " array([0, 1, 3], dtype=int64),\n",
       " array([4, 5], dtype=int64)]"
      ]
     },
     "execution_count": 41,
     "metadata": {},
     "output_type": "execute_result"
    }
   ],
   "source": [
    "mc2.communication_classes"
   ]
  },
  {
   "cell_type": "code",
   "execution_count": 42,
   "metadata": {},
   "outputs": [
    {
     "data": {
      "text/plain": [
       "False"
      ]
     },
     "execution_count": 42,
     "metadata": {},
     "output_type": "execute_result"
    }
   ],
   "source": [
    "mc2.is_aperiodic"
   ]
  },
  {
   "cell_type": "code",
   "execution_count": 43,
   "metadata": {},
   "outputs": [
    {
     "data": {
      "text/plain": [
       "2"
      ]
     },
     "execution_count": 43,
     "metadata": {},
     "output_type": "execute_result"
    }
   ],
   "source": [
    "mc2.period"
   ]
  },
  {
   "cell_type": "code",
   "execution_count": 44,
   "metadata": {},
   "outputs": [
    {
     "name": "stdout",
     "output_type": "stream",
     "text": [
      "[[0.         0.         0.5        0.         0.         0.\n",
      "  0.5       ]\n",
      " [0.         0.         0.         0.         0.33333333 0.66666667\n",
      "  0.        ]]\n"
     ]
    }
   ],
   "source": [
    "print(mc2.stationary_distributions)"
   ]
  },
  {
   "cell_type": "code",
   "execution_count": 46,
   "metadata": {},
   "outputs": [
    {
     "name": "stdout",
     "output_type": "stream",
     "text": [
      "[[0.         0.         0.5        0.         0.         0.\n",
      "  0.5       ]\n",
      " [0.         0.         0.         0.         0.33333333 0.66666667\n",
      "  0.        ]]\n"
     ]
    }
   ],
   "source": [
    "print(mc2.stationary_distributions.dot(mc2.P))"
   ]
  },
  {
   "cell_type": "markdown",
   "metadata": {},
   "source": [
    "# Задание 4"
   ]
  },
  {
   "cell_type": "markdown",
   "metadata": {},
   "source": [
    "Имеется два пенсионных фонда, которые будем называть Пф 1 и Пф 2. Работники имеют возможность ежемесячно переводить свои пенсионные накопления из одного фонда в другой, если это им представляется выгодным. Если некоторый работник относится к ПФ 1, то с вероятностью О, 7 он и на следующий месяц останется в этом фонде. Вероятность того, что он решит перевести свои накопления в ПФ2, составляет 0,3. С другой стороны, для тех, кто относится к ПФ 2, вероятность остаться в нем равна 0,6, а вероятность перейти на следующий месяц в ПФ1 равна 0,4.\n",
    "\n",
    "Предполагается, что эти вероятности постоянны и не меняются из месяца в месяц. Пусть в некоторый месяц, который принимается за начальный, 50% всех работников относятся к фонду 1, а другие 50% -к фонду 2.\n",
    "\n",
    "Построить матрицу вероятностей переходов. Определите вектор начальных вероятностей. а) Требуется определить, какой процент работников будет от носиться к фонду 1, а какой - к фонду 2 через 6 месяцев.\n",
    "\n",
    "б) Предположим теперь, что первоначально 30% работников относилось к фонду 1, а 70% к фонду. Спрашивается, как изменить это соотношение через 6 месяцев?"
   ]
  },
  {
   "cell_type": "code",
   "execution_count": 20,
   "metadata": {},
   "outputs": [],
   "source": [
    "P = np.array([[0.7, 0.3],\n",
    "              [0.4, 0.6]])"
   ]
  },
  {
   "cell_type": "code",
   "execution_count": 42,
   "metadata": {},
   "outputs": [
    {
     "data": {
      "text/plain": [
       "array([[0.7, 0.3],\n",
       "       [0.4, 0.6]])"
      ]
     },
     "execution_count": 42,
     "metadata": {},
     "output_type": "execute_result"
    }
   ],
   "source": [
    "P"
   ]
  },
  {
   "cell_type": "code",
   "execution_count": 21,
   "metadata": {},
   "outputs": [],
   "source": [
    "resultMatrix = np.linalg.matrix_power(P, 6)"
   ]
  },
  {
   "cell_type": "code",
   "execution_count": 22,
   "metadata": {},
   "outputs": [
    {
     "data": {
      "text/plain": [
       "array([[0.571741, 0.428259],\n",
       "       [0.571012, 0.428988]])"
      ]
     },
     "execution_count": 22,
     "metadata": {},
     "output_type": "execute_result"
    }
   ],
   "source": [
    "resultMatrix"
   ]
  },
  {
   "cell_type": "code",
   "execution_count": 23,
   "metadata": {},
   "outputs": [],
   "source": [
    "ψ1 = (0.5, 0.5)\n",
    "answer1 = ψ1 @ resultMatrix"
   ]
  },
  {
   "cell_type": "code",
   "execution_count": 24,
   "metadata": {},
   "outputs": [
    {
     "data": {
      "text/plain": [
       "array([0.5713765, 0.4286235])"
      ]
     },
     "execution_count": 24,
     "metadata": {},
     "output_type": "execute_result"
    }
   ],
   "source": [
    "answer1"
   ]
  },
  {
   "cell_type": "code",
   "execution_count": 25,
   "metadata": {},
   "outputs": [],
   "source": [
    "ψ2 = (0.3, 0.7)\n",
    "answer2 = ψ2 @ resultMatrix"
   ]
  },
  {
   "cell_type": "code",
   "execution_count": 26,
   "metadata": {},
   "outputs": [
    {
     "data": {
      "text/plain": [
       "array([0.5712307, 0.4287693])"
      ]
     },
     "execution_count": 26,
     "metadata": {},
     "output_type": "execute_result"
    }
   ],
   "source": [
    "answer2"
   ]
  },
  {
   "cell_type": "markdown",
   "metadata": {},
   "source": [
    "Векторы вероятностей отличались в начале, но через 6 шагов практически совпадают."
   ]
  },
  {
   "cell_type": "markdown",
   "metadata": {},
   "source": [
    "# Задание 5."
   ]
  },
  {
   "cell_type": "markdown",
   "metadata": {},
   "source": [
    "Рассмотрим состояния банка, характеризующиеся одной из процентных ставок: 12%, 13%, 14%, которые устанавливаются в начале каждого квартала и фиксированы на всем его протяжении. Таким образом, если за систему S принять действующую процентную ставку, то она в каждый момент времени может находиться только в одном из состояний: s1 – процентная ставка 12%, s2 – процентная ставка 13%, s3 – процентная ставка 14%. Анализ работы банка в предшествующие годы показал, что изменение переходных вероятностей с течением времени пренебрежимо мало. Определить распределение вероятностей состояний системы в конце года, если в конце предыдущего года процентная ставка составила 13%, а граф вероятностей переходов имеет вид."
   ]
  },
  {
   "cell_type": "markdown",
   "metadata": {},
   "source": [
    "Матрица переходных вероятностей:"
   ]
  },
  {
   "cell_type": "code",
   "execution_count": 40,
   "metadata": {},
   "outputs": [],
   "source": [
    "M = np.zeros((3, 3))\n",
    "M[0,0] = 0.4\n",
    "M[0,1] = 0.4\n",
    "M[0,2] = 0.2\n",
    "M[1,0] = 0.2\n",
    "M[1,1] = 0.5\n",
    "M[1,2] = 0.3\n",
    "M[2,0] = 0.1\n",
    "M[2,1] = 0.3\n",
    "M[2,2] = 0.6"
   ]
  },
  {
   "cell_type": "code",
   "execution_count": 41,
   "metadata": {},
   "outputs": [
    {
     "data": {
      "text/plain": [
       "array([[0.4, 0.4, 0.2],\n",
       "       [0.2, 0.5, 0.3],\n",
       "       [0.1, 0.3, 0.6]])"
      ]
     },
     "execution_count": 41,
     "metadata": {},
     "output_type": "execute_result"
    }
   ],
   "source": [
    "M"
   ]
  },
  {
   "cell_type": "markdown",
   "metadata": {},
   "source": [
    "Вектор начального распределения:"
   ]
  },
  {
   "cell_type": "code",
   "execution_count": 46,
   "metadata": {},
   "outputs": [],
   "source": [
    "ψ3 = (0.0, 1.0, 0.0)"
   ]
  },
  {
   "cell_type": "code",
   "execution_count": 44,
   "metadata": {},
   "outputs": [],
   "source": [
    "matrixLastFourQuarter = np.linalg.matrix_power(M, 4)"
   ]
  },
  {
   "cell_type": "code",
   "execution_count": 45,
   "metadata": {},
   "outputs": [
    {
     "data": {
      "text/plain": [
       "array([[0.207 , 0.404 , 0.389 ],\n",
       "       [0.202 , 0.4015, 0.3965],\n",
       "       [0.1945, 0.3965, 0.409 ]])"
      ]
     },
     "execution_count": 45,
     "metadata": {},
     "output_type": "execute_result"
    }
   ],
   "source": [
    "matrixLastFourQuarter"
   ]
  },
  {
   "cell_type": "code",
   "execution_count": 47,
   "metadata": {},
   "outputs": [],
   "source": [
    "answerBank = ψ3 @ matrixLastFourQuarter"
   ]
  },
  {
   "cell_type": "markdown",
   "metadata": {},
   "source": [
    "Распределение вероятностей состояний процентной ставки банка в конце года, то есть по прошествии четырех кварталов выглядит\n",
    "следующим образом:"
   ]
  },
  {
   "cell_type": "code",
   "execution_count": 48,
   "metadata": {},
   "outputs": [
    {
     "data": {
      "text/plain": [
       "array([0.202 , 0.4015, 0.3965])"
      ]
     },
     "execution_count": 48,
     "metadata": {},
     "output_type": "execute_result"
    }
   ],
   "source": [
    "answerBank"
   ]
  },
  {
   "cell_type": "markdown",
   "metadata": {},
   "source": [
    "# Задание 6."
   ]
  },
  {
   "cell_type": "markdown",
   "metadata": {},
   "source": [
    "Матрица переходных вероятностей:"
   ]
  },
  {
   "cell_type": "code",
   "execution_count": 54,
   "metadata": {},
   "outputs": [],
   "source": [
    "P_shops = np.zeros((3, 3))\n",
    "P_shops[0,0] = 0.8\n",
    "P_shops[0,1] = 0.2\n",
    "P_shops[0,2] = 0.1\n",
    "P_shops[1,0] = 0.1\n",
    "P_shops[1,1] = 0.7\n",
    "P_shops[1,2] = 0.3\n",
    "P_shops[2,0] = 0.1\n",
    "P_shops[2,1] = 0.1\n",
    "P_shops[2,2] = 0.6"
   ]
  },
  {
   "cell_type": "code",
   "execution_count": 55,
   "metadata": {},
   "outputs": [
    {
     "data": {
      "text/plain": [
       "array([[0.8, 0.2, 0.1],\n",
       "       [0.1, 0.7, 0.3],\n",
       "       [0.1, 0.1, 0.6]])"
      ]
     },
     "execution_count": 55,
     "metadata": {},
     "output_type": "execute_result"
    }
   ],
   "source": [
    "P_shops"
   ]
  },
  {
   "cell_type": "markdown",
   "metadata": {},
   "source": [
    "Вектор начального распределения:"
   ]
  },
  {
   "cell_type": "code",
   "execution_count": 56,
   "metadata": {},
   "outputs": [],
   "source": [
    "X0_shops = (0.4, 0.24, 0.36)"
   ]
  },
  {
   "cell_type": "code",
   "execution_count": 57,
   "metadata": {},
   "outputs": [],
   "source": [
    "answerShops = P_shops @ X0_shops"
   ]
  },
  {
   "cell_type": "code",
   "execution_count": 58,
   "metadata": {},
   "outputs": [
    {
     "data": {
      "text/plain": [
       "array([0.404, 0.316, 0.28 ])"
      ]
     },
     "execution_count": 58,
     "metadata": {},
     "output_type": "execute_result"
    }
   ],
   "source": [
    "answerShops"
   ]
  },
  {
   "cell_type": "code",
   "execution_count": 59,
   "metadata": {},
   "outputs": [],
   "source": [
    "shopA = 500 * 0.404\n",
    "shopB = 500 * 0.316\n",
    "shopC = 500 * 0.28"
   ]
  },
  {
   "cell_type": "markdown",
   "metadata": {},
   "source": [
    "Количество посетителей в магазинах:"
   ]
  },
  {
   "cell_type": "code",
   "execution_count": 61,
   "metadata": {},
   "outputs": [
    {
     "name": "stdout",
     "output_type": "stream",
     "text": [
      "202.0\n",
      "158.0\n",
      "140.0\n"
     ]
    }
   ],
   "source": [
    "print(shopA)\n",
    "print(shopB)\n",
    "print(shopC)"
   ]
  },
  {
   "cell_type": "markdown",
   "metadata": {},
   "source": [
    "# Задание 7."
   ]
  },
  {
   "cell_type": "markdown",
   "metadata": {},
   "source": [
    "Визуализация графов двумя способами приведена выше."
   ]
  },
  {
   "cell_type": "code",
   "execution_count": null,
   "metadata": {},
   "outputs": [],
   "source": []
  }
 ],
 "metadata": {
  "kernelspec": {
   "display_name": "Python 3",
   "language": "python",
   "name": "python3"
  },
  "language_info": {
   "codemirror_mode": {
    "name": "ipython",
    "version": 3
   },
   "file_extension": ".py",
   "mimetype": "text/x-python",
   "name": "python",
   "nbconvert_exporter": "python",
   "pygments_lexer": "ipython3",
   "version": "3.7.6"
  }
 },
 "nbformat": 4,
 "nbformat_minor": 4
}
